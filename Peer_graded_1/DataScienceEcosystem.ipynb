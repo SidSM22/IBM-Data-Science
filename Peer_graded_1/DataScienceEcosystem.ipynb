{
  "metadata": {
    "kernelspec": {
      "name": "python",
      "display_name": "Python (Pyodide)",
      "language": "python"
    },
    "language_info": {
      "codemirror_mode": {
        "name": "python",
        "version": 3
      },
      "file_extension": ".py",
      "mimetype": "text/x-python",
      "name": "python",
      "nbconvert_exporter": "python",
      "pygments_lexer": "ipython3",
      "version": "3.8"
    }
  },
  "nbformat_minor": 5,
  "nbformat": 4,
  "cells": [
    {
      "id": "0e330b9d-066f-43f0-b0e4-7d603d82990b",
      "cell_type": "markdown",
      "source": "# Data Science Tools and Ecosystem",
      "metadata": {}
    },
    {
      "id": "741cb865-8621-46d0-b647-c3864c7e4391",
      "cell_type": "markdown",
      "source": "In this notebook, Data Science Tools and Ecosystem are summarized.",
      "metadata": {}
    },
    {
      "id": "faaf8c29-8dce-4513-b1be-ce24a0ea5de3",
      "cell_type": "markdown",
      "source": "Some of the popular languages that Data Scientists use are:\n1. Python\n2. R\n3. SQL\n4. C++",
      "metadata": {}
    },
    {
      "id": "b2935a48-80e5-4ae1-b03c-197ddcaa64a0",
      "cell_type": "markdown",
      "source": "Some of the commonly used libraries used by Data Scientists include:\n- Keras\n- Vegas\n- Pandas\n- Matplotlib",
      "metadata": {}
    },
    {
      "id": "08b009ef-9dcc-4e92-8301-567e29401cef",
      "cell_type": "markdown",
      "source": "## Data Science Tools",
      "metadata": {}
    },
    {
      "id": "1aa59cf0-aa3f-482b-bfab-3df88c35d3da",
      "cell_type": "markdown",
      "source": "| Tools |\n|---------|\n|Jupyter Notebook|\n|Anaconda|\n|Spyder|",
      "metadata": {}
    },
    {
      "id": "c234fd7c-8671-46a7-bc1c-84c14cf6965b",
      "cell_type": "markdown",
      "source": "### Below are a few examples of evaluating arithmetic expressions in Python\n",
      "metadata": {}
    },
    {
      "id": "43a559bf-8d7a-4c81-a68b-c7b3ed8b4dfc",
      "cell_type": "code",
      "source": "#This a simple arithmetic expression to mutiply then add integers\n(3*4)+5",
      "metadata": {
        "trusted": true
      },
      "outputs": [
        {
          "execution_count": 7,
          "output_type": "execute_result",
          "data": {
            "text/plain": "17"
          },
          "metadata": {}
        }
      ],
      "execution_count": 7
    },
    {
      "id": "18ae735c-f0a5-4ff9-af0c-9d28c058f51e",
      "cell_type": "code",
      "source": "#This will convert 200 minutes to hours by diving by 60\n200/60",
      "metadata": {
        "trusted": true
      },
      "outputs": [
        {
          "execution_count": 8,
          "output_type": "execute_result",
          "data": {
            "text/plain": "3.3333333333333335"
          },
          "metadata": {}
        }
      ],
      "execution_count": 8
    },
    {
      "id": "fa698478-b7a9-481a-a93c-894b9b9ab1ad",
      "cell_type": "markdown",
      "source": "**Objectives**\n- Understanding tools for Data Science\n- Learning libraries\n- Performing Arithmetic Operations\n- Learning about Columns and Tables",
      "metadata": {},
      "attachments": {}
    },
    {
      "id": "27f80ce1-5341-4810-b7c1-5463c5a728d3",
      "cell_type": "markdown",
      "source": "## Author\nSiddhesh Mali",
      "metadata": {}
    },
    {
      "id": "568476f2-fb6c-49e8-a24f-e0e15786cd1a",
      "cell_type": "code",
      "source": "",
      "metadata": {
        "trusted": true
      },
      "outputs": [],
      "execution_count": null
    }
  ]
}